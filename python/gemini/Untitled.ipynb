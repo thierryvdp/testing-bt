{
 "cells": [
  {
   "cell_type": "code",
   "execution_count": 1,
   "id": "a228378e-614b-41bd-ba2e-dbc175315bc5",
   "metadata": {},
   "outputs": [
    {
     "name": "stdout",
     "output_type": "stream",
     "text": [
      "['Babel', 'MarkupSafe', 'PyYAML', 'Send2Trash', 'annotated-types', 'anyio', 'appnope', 'argon2-cffi', 'argon2-cffi-bindings', 'arrow', 'asttokens', 'async-lru', 'attrs', 'beautifulsoup4', 'bleach', 'cachetools', 'certifi', 'cffi', 'charset-normalizer', 'comm', 'debugpy', 'decorator', 'defusedxml', 'et-xmlfile', 'executing', 'fastjsonschema', 'fqdn', 'google-ai-generativelanguage', 'google-api-core', 'google-api-python-client', 'google-auth', 'google-auth-httplib2', 'google-generativeai', 'googleapis-common-protos', 'grpcio', 'grpcio-status', 'h11', 'httpcore', 'httplib2', 'httpx', 'idna', 'ipykernel', 'ipython', 'isoduration', 'jedi', 'jinja2', 'json5', 'jsonpointer', 'jsonschema', 'jsonschema-specifications', 'jupyter-client', 'jupyter-core', 'jupyter-events', 'jupyter-lsp', 'jupyter-server', 'jupyter-server-terminals', 'jupyterlab', 'jupyterlab-pygments', 'jupyterlab-server', 'matplotlib-inline', 'mistune', 'nbclient', 'nbconvert', 'nbformat', 'nest-asyncio', 'notebook', 'notebook-shim', 'numpy', 'openpyxl', 'overrides', 'packaging', 'pandas', 'pandocfilters', 'parso', 'pexpect', 'pip', 'platformdirs', 'prometheus-client', 'prompt-toolkit', 'proto-plus', 'protobuf', 'psutil', 'ptyprocess', 'pure-eval', 'pyasn1', 'pyasn1-modules', 'pycparser', 'pydantic', 'pydantic-core', 'pygments', 'pyparsing', 'python-dateutil', 'python-json-logger', 'pytz', 'pyzmq', 'referencing', 'requests', 'rfc3339-validator', 'rfc3986-validator', 'rpds-py', 'rsa', 'setuptools', 'six', 'sniffio', 'soupsieve', 'stack-data', 'terminado', 'tinycss2', 'tornado', 'tqdm', 'traitlets', 'types-python-dateutil', 'typing-extensions', 'tzdata', 'uri-template', 'uritemplate', 'urllib3', 'wcwidth', 'webcolors', 'webencodings', 'websocket-client', 'wheel', 'autocommand', 'backports.tarfile', 'importlib-metadata', 'importlib-resources', 'inflect', 'jaraco.context', 'jaraco.functools', 'jaraco.text', 'more-itertools', 'ordered-set', 'tomli', 'typeguard', 'zipp']\n"
     ]
    },
    {
     "name": "stderr",
     "output_type": "stream",
     "text": [
      "/var/folders/nx/7ym_cgjj6db7zfqb3qf998_h0000gn/T/ipykernel_2575/2658834672.py:1: DeprecationWarning: pkg_resources is deprecated as an API. See https://setuptools.pypa.io/en/latest/pkg_resources.html\n",
      "  import pkg_resources\n"
     ]
    }
   ],
   "source": [
    "import pkg_resources\n",
    "from subprocess import call\n",
    "\n",
    "packages = [dist.project_name for dist in pkg_resources.working_set]\n",
    "print(packages)"
   ]
  },
  {
   "cell_type": "code",
   "execution_count": null,
   "id": "03f0dc94-88f3-4d79-ba68-d5968773d0a9",
   "metadata": {},
   "outputs": [],
   "source": [
    "for package in packages:\n",
    "    call(\"pip3 install --upgrade \" + package, shell=True)"
   ]
  }
 ],
 "metadata": {
  "kernelspec": {
   "display_name": "Python 3 (ipykernel)",
   "language": "python",
   "name": "python3"
  },
  "language_info": {
   "codemirror_mode": {
    "name": "ipython",
    "version": 3
   },
   "file_extension": ".py",
   "mimetype": "text/x-python",
   "name": "python",
   "nbconvert_exporter": "python",
   "pygments_lexer": "ipython3",
   "version": "3.12.3"
  }
 },
 "nbformat": 4,
 "nbformat_minor": 5
}
