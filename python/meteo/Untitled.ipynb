{
 "cells": [
  {
   "cell_type": "code",
   "execution_count": 2,
   "id": "d8bd88b6-ac66-42fc-88cb-bb9216dcbf5d",
   "metadata": {},
   "outputs": [],
   "source": [
    "import requests\n",
    "import json\n",
    "import numpy as np\n",
    "import pandas as pd"
   ]
  },
  {
   "cell_type": "code",
   "execution_count": 3,
   "id": "4e52cb53-34f4-476d-b248-00957ee7f3ec",
   "metadata": {},
   "outputs": [
    {
     "name": "stdout",
     "output_type": "stream",
     "text": [
      "https://api.weather.com/v2/pws/history/hourly?stationId=ILASAL49&format=json&units=m&apiKey=85ee1fc2d76c4cecae1fc2d76cfcec17&date=20230409\n"
     ]
    }
   ],
   "source": [
    "target_date = \"20230409\"\n",
    "url = \"https://api.weather.com/v2/pws/history/hourly?stationId=ILASAL49&format=json&units=m&apiKey=85ee1fc2d76c4cecae1fc2d76cfcec17&date=\"+target_date\n",
    "print(url)\n",
    "# Faire une requête pour obtenir les données JSON\n",
    "response = requests.get(url)\n",
    "data = response.json()"
   ]
  },
  {
   "cell_type": "code",
   "execution_count": 9,
   "id": "7439436c-ff4a-4f8b-b5ef-762091b9a211",
   "metadata": {},
   "outputs": [],
   "source": [
    "# Examiner la structure des données pour extraire les informations pertinentes\n",
    "# Supposons que nous voulons extraire les informations sur la température (temp)\n",
    "observations = data.get('observations', [])\n",
    "\n",
    "# Extraire les données pertinentes et les stocker dans une liste\n",
    "temp_list = []\n",
    "\n",
    "for observation in observations:\n",
    "    temp_list.append(observation)\n",
    "\n",
    "# Convertir la liste en tableau NumPy\n",
    "temp_array = np.array(temp_list)\n",
    "\n",
    "# Afficher le tableau NumPy\n",
    "# print(temp_array)"
   ]
  },
  {
   "cell_type": "code",
   "execution_count": 14,
   "id": "1801cda4-a3a2-4f89-b677-c60496b1d98b",
   "metadata": {},
   "outputs": [
    {
     "name": "stdout",
     "output_type": "stream",
     "text": [
      "dict_keys(['observations'])\n",
      "{'stationID': 'ILASAL49', 'tz': 'Europe/Paris', 'obsTimeUtc': '2023-04-08T22:59:56Z', 'obsTimeLocal': '2023-04-09 00:59:56', 'epoch': 1680994796, 'lat': 43.549501, 'lon': 2.759053, 'solarRadiationHigh': None, 'uvHigh': None, 'winddirAvg': 338, 'humidityHigh': 91, 'humidityLow': 89, 'humidityAvg': 89, 'qcStatus': -1, 'metric': {'tempHigh': -3, 'tempLow': -4, 'tempAvg': -3, 'windspeedHigh': 0, 'windspeedLow': 0, 'windspeedAvg': 0, 'windgustHigh': 0, 'windgustLow': 0, 'windgustAvg': 0, 'dewptHigh': -4, 'dewptLow': -5, 'dewptAvg': -4, 'windchillHigh': -3, 'windchillLow': -4, 'windchillAvg': -3, 'heatindexHigh': -3, 'heatindexLow': -4, 'heatindexAvg': -3, 'pressureMax': 1013.88, 'pressureMin': 1013.88, 'pressureTrend': 0.0, 'precipRate': 0.0, 'precipTotal': 0.0}}\n",
      "dict_keys(['stationID', 'tz', 'obsTimeUtc', 'obsTimeLocal', 'epoch', 'lat', 'lon', 'solarRadiationHigh', 'uvHigh', 'winddirAvg', 'humidityHigh', 'humidityLow', 'humidityAvg', 'qcStatus', 'metric'])\n"
     ]
    }
   ],
   "source": [
    "print(data.keys())\n",
    "print(observations[0])\n",
    "print(observations[0].keys())\n"
   ]
  },
  {
   "cell_type": "code",
   "execution_count": 15,
   "id": "e2b320b4-e3d9-47f4-a807-87b9037e1be7",
   "metadata": {},
   "outputs": [
    {
     "name": "stdout",
     "output_type": "stream",
     "text": [
      "https://api.weather.com/v2/pws/history/hourly?stationId=ILASAL49&format=json&units=m&apiKey=85ee1fc2d76c4cecae1fc2d76cfcec17&date=20230409\n"
     ]
    }
   ],
   "source": []
  },
  {
   "cell_type": "raw",
   "id": "827900ad-3797-434c-bd21-9711b4211c00",
   "metadata": {},
   "source": [
    "\n"
   ]
  },
  {
   "cell_type": "code",
   "execution_count": null,
   "id": "79acc93e-73a9-4b11-b57e-13ae06901cb6",
   "metadata": {},
   "outputs": [],
   "source": []
  }
 ],
 "metadata": {
  "kernelspec": {
   "display_name": "Python 3 (ipykernel)",
   "language": "python",
   "name": "python3"
  },
  "language_info": {
   "codemirror_mode": {
    "name": "ipython",
    "version": 3
   },
   "file_extension": ".py",
   "mimetype": "text/x-python",
   "name": "python",
   "nbconvert_exporter": "python",
   "pygments_lexer": "ipython3",
   "version": "3.12.3"
  }
 },
 "nbformat": 4,
 "nbformat_minor": 5
}
